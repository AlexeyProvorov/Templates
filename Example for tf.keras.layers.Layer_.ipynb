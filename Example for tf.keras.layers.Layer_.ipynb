{
  "nbformat": 4,
  "nbformat_minor": 0,
  "metadata": {
    "colab": {
      "provenance": [],
      "authorship_tag": "ABX9TyOmWH1tQkCVP6VbexG7z1fc",
      "include_colab_link": true
    },
    "kernelspec": {
      "name": "python3",
      "display_name": "Python 3"
    },
    "language_info": {
      "name": "python"
    }
  },
  "cells": [
    {
      "cell_type": "markdown",
      "metadata": {
        "id": "view-in-github",
        "colab_type": "text"
      },
      "source": [
        "<a href=\"https://colab.research.google.com/github/AlexeyProvorov/Templates/blob/main/Example%20for%20tf.keras.layers.Layer_.ipynb\" target=\"_parent\"><img src=\"https://colab.research.google.com/assets/colab-badge.svg\" alt=\"Open In Colab\"/></a>"
      ]
    },
    {
      "cell_type": "markdown",
      "source": [
        "Пример использования tf.keras.layers.Layer для создания модели"
      ],
      "metadata": {
        "id": "fDYjphJs_aM0"
      }
    },
    {
      "cell_type": "code",
      "source": [
        "import os\n",
        "os.environ['TF_CPP_MIN_LOG_LEVEL'] = '2'\n",
        "\n",
        "import tensorflow as tf\n",
        "from tensorflow.keras.datasets import mnist\n",
        "from tensorflow.keras.utils import to_categorical\n",
        "\n"
      ],
      "metadata": {
        "id": "Mltf1WAXwfD6"
      },
      "execution_count": 12,
      "outputs": []
    },
    {
      "cell_type": "code",
      "source": [
        "class DenseLayer(tf.keras.layers.Layer):\n",
        "    def __init__(self, units=1):\n",
        "        super().__init__()\n",
        "        self.units = units\n",
        "        self.rate = 0.01\n",
        "\n",
        "    def build(self, input_shape):\n",
        "        self.w = self.add_weight(shape=(input_shape[-1], self.units),\n",
        "                                 initializer=\"random_normal\",\n",
        "                                 trainable=True)\n",
        "        self.b = self.add_weight(shape=(self.units,), initializer=\"zeros\", trainable=True)\n",
        "\n",
        "    def call(self, inputs):\n",
        "        regular = tf.reduce_mean(tf.square(self.w))\n",
        "        self.add_loss(regular)\n",
        "        self.add_metric(regular, name=\"mean square weights\")\n",
        "\n",
        "        return tf.matmul(inputs, self.w) + self.b\n",
        "\n",
        "\n",
        "\n",
        "class NeuralNetwork(tf.keras.Model):\n",
        "    def __init__(self):\n",
        "        super().__init__()\n",
        "        self.layer_1 = DenseLayer(128)\n",
        "        self.layer_2 = DenseLayer(10)\n",
        "\n",
        "    def call(self, inputs):\n",
        "        x = self.layer_1(inputs)\n",
        "        x = tf.nn.relu(x)\n",
        "        x = self.layer_2(x)\n",
        "        x = tf.nn.softmax(x)\n",
        "        return x\n",
        "\n",
        "model = NeuralNetwork()\n",
        "\n",
        "\n",
        "model.compile(optimizer='adam',\n",
        "             loss='categorical_crossentropy',\n",
        "             metrics=['accuracy'])\n",
        "\n",
        "\n",
        "\n",
        "(x_train, y_train), (x_test, y_test) = mnist.load_data()\n",
        "\n",
        "x_train = x_train / 255\n",
        "x_test = x_test / 255\n",
        "\n",
        "x_train = tf.reshape(tf.cast(x_train, tf.float32), [-1, 28*28])\n",
        "x_test = tf.reshape(tf.cast(x_test, tf.float32), [-1, 28*28])\n",
        "\n",
        "y_train = to_categorical(y_train, 10)\n",
        "y_test_cat = to_categorical(y_test, 10)\n",
        "\n",
        "\n",
        "model.fit(x_train, y_train, batch_size=32, epochs=5)\n",
        "\n",
        "print(model.evaluate(x_test, y_test_cat) )"
      ],
      "metadata": {
        "id": "8CV4oMfZzAoP",
        "colab": {
          "base_uri": "https://localhost:8080/"
        },
        "outputId": "7bc881ed-b180-4ac1-c07d-6a909fd47886"
      },
      "execution_count": 16,
      "outputs": [
        {
          "output_type": "stream",
          "name": "stdout",
          "text": [
            "Downloading data from https://storage.googleapis.com/tensorflow/tf-keras-datasets/mnist.npz\n",
            "11490434/11490434 [==============================] - 0s 0us/step\n",
            "Epoch 1/5\n",
            "1875/1875 [==============================] - 7s 3ms/step - loss: 0.3054 - accuracy: 0.9194 - mean square weights: 0.0102\n",
            "Epoch 2/5\n",
            "1875/1875 [==============================] - 8s 4ms/step - loss: 0.1489 - accuracy: 0.9640 - mean square weights: 0.0169\n",
            "Epoch 3/5\n",
            "1875/1875 [==============================] - 6s 3ms/step - loss: 0.1166 - accuracy: 0.9736 - mean square weights: 0.0196\n",
            "Epoch 4/5\n",
            "1875/1875 [==============================] - 7s 4ms/step - loss: 0.1018 - accuracy: 0.9785 - mean square weights: 0.0208\n",
            "Epoch 5/5\n",
            "1875/1875 [==============================] - 6s 3ms/step - loss: 0.0920 - accuracy: 0.9819 - mean square weights: 0.0211\n",
            "313/313 [==============================] - 1s 2ms/step - loss: 0.1094 - accuracy: 0.9761 - mean square weights: 0.0211\n",
            "[0.10935395210981369, 0.9761000275611877, 0.021107666194438934, 0.021107666194438934]\n"
          ]
        }
      ]
    }
  ]
}