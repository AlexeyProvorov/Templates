{
  "nbformat": 4,
  "nbformat_minor": 0,
  "metadata": {
    "colab": {
      "name": "Intercept and Coefficient.ipynb",
      "provenance": [],
      "authorship_tag": "ABX9TyN/bah1Nti0B0P7nuOb2oAo",
      "include_colab_link": true
    },
    "kernelspec": {
      "name": "python3",
      "display_name": "Python 3"
    },
    "language_info": {
      "name": "python"
    }
  },
  "cells": [
    {
      "cell_type": "markdown",
      "metadata": {
        "id": "view-in-github",
        "colab_type": "text"
      },
      "source": [
        "<a href=\"https://colab.research.google.com/github/LeoProvorov/Templates/blob/main/Intercept_and_Coefficient.ipynb\" target=\"_parent\"><img src=\"https://colab.research.google.com/assets/colab-badge.svg\" alt=\"Open In Colab\"/></a>"
      ]
    },
    {
      "cell_type": "code",
      "metadata": {
        "colab": {
          "base_uri": "https://localhost:8080/"
        },
        "id": "UIN3qo-K0u_I",
        "outputId": "b134f014-b1ed-46b1-9826-04c09d846b02"
      },
      "source": [
        "from sklearn import linear_model as lm\n",
        "# Create linear regression object\n",
        "lr = lm.LinearRegression()\n",
        "lr.fit([[0],[1],[2],[3]], [0,1,0,3])\n",
        "print(\"Intercept: \", lr.intercept_)\n",
        "print(\"Coefficient: \", lr.coef_)"
      ],
      "execution_count": 6,
      "outputs": [
        {
          "output_type": "stream",
          "name": "stdout",
          "text": [
            "Intercept:  -0.20000000000000018\n",
            "Coefficient:  [0.8]\n"
          ]
        }
      ]
    },
    {
      "cell_type": "code",
      "metadata": {
        "colab": {
          "base_uri": "https://localhost:8080/"
        },
        "id": "zmidl79A2yv-",
        "outputId": "40b01827-ce64-4eb1-921b-9875403a7ae2"
      },
      "source": [
        "from scipy import stats\n",
        "import numpy as np\n",
        "x = np.array([0, 1, 2, 3])\n",
        "y = np.array([0, 1, 0, 3])\n",
        "print(stats.linregress(x,y))"
      ],
      "execution_count": 8,
      "outputs": [
        {
          "output_type": "stream",
          "name": "stdout",
          "text": [
            "LinregressResult(slope=0.8, intercept=-0.20000000000000018, rvalue=0.7302967433402214, pvalue=0.26970325665977846, stderr=0.5291502622129182)\n"
          ]
        }
      ]
    },
    {
      "cell_type": "code",
      "metadata": {
        "colab": {
          "base_uri": "https://localhost:8080/",
          "height": 265
        },
        "id": "oUHVa3Lw3B36",
        "outputId": "ad320080-d99c-40c3-9724-44f7fe458d17"
      },
      "source": [
        "import numpy as np\n",
        "x = np.array([0,1,2,3])\n",
        "y = np.array([0,1,0,3])\n",
        "A = np.vstack([x, np.ones(len(x))]).T\n",
        "m, c = np.linalg.lstsq(A, y, rcond=None)[0]\n",
        "m, c\n",
        "\n",
        "import matplotlib.pyplot as plt\n",
        "_ = plt.plot(x, y, 'o', label='Original data', markersize=10)\n",
        "_ = plt.plot(x, m*x + c, 'r', label='Fitted line')\n",
        "_ = plt.legend()\n",
        "plt.show()"
      ],
      "execution_count": 9,
      "outputs": [
        {
          "output_type": "display_data",
          "data": {
            "image/png": "[encoded data removed]",
            "text/plain": [
              "<Figure size 432x288 with 1 Axes>"
            ]
          },
          "metadata": {
            "needs_background": "light"
          }
        }
      ]
    }
  ]
}