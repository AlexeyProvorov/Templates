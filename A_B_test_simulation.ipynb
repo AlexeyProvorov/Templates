{
  "nbformat": 4,
  "nbformat_minor": 0,
  "metadata": {
    "colab": {
      "name": "A-B_test_simulation.ipynb",
      "provenance": [],
      "authorship_tag": "ABX9TyOPKpTzFyiDiWGaonxci/99",
      "include_colab_link": true
    },
    "kernelspec": {
      "name": "python3",
      "display_name": "Python 3"
    },
    "language_info": {
      "name": "python"
    }
  },
  "cells": [
    {
      "cell_type": "markdown",
      "metadata": {
        "id": "view-in-github",
        "colab_type": "text"
      },
      "source": [
        "<a href=\"https://colab.research.google.com/github/LeoProvorov/Templates/blob/main/A_B_test_simulation.ipynb\" target=\"_parent\"><img src=\"https://colab.research.google.com/assets/colab-badge.svg\" alt=\"Open In Colab\"/></a>"
      ]
    },
    {
      "cell_type": "code",
      "metadata": {
        "id": "Xf4mQyxleISQ"
      },
      "source": [
        "import pandas as pd\n",
        "import numpy as np\n",
        "from scipy import stats\n",
        "import seaborn as sns\n",
        "%matplotlib inline  \n"
      ],
      "execution_count": null,
      "outputs": []
    },
    {
      "cell_type": "code",
      "metadata": {
        "id": "GrbftNtdeQFK"
      },
      "source": [
        "days = 30\n",
        "\n",
        "mu_control, sigma_control, n_control = 100, 50, 100\n",
        "mu_experiment, sigma_experiment, n_experiment = 105, 50, 100\n",
        "\n",
        "current_date = 1\n",
        "user_data = pd.DataFrame()\n",
        "stat_result = pd.DataFrame()\n",
        "daily_data = pd.DataFrame()"
      ],
      "execution_count": null,
      "outputs": []
    },
    {
      "cell_type": "code",
      "metadata": {
        "id": "klQ1HmfcedpW"
      },
      "source": [
        "for day in range(days):\n",
        "    daily_data_control = np.random.normal(mu_control, sigma_control, n_control)\n",
        "    daily_data_experiment = np.random.normal(mu_experiment, sigma_experiment, n_experiment)\n",
        "    \n",
        "    day_data_control = pd.DataFrame({'value': daily_data_control})\n",
        "    day_data_control['date'] = current_date\n",
        "    day_data_control['group'] = 'control'\n",
        "\n",
        "    \n",
        "    day_data_experiment = pd.DataFrame({'value': daily_data_experiment})\n",
        "    day_data_experiment['date'] = current_date\n",
        "    day_data_experiment['group'] = 'experiment'\n",
        "\n",
        "    \n",
        "    user_data = user_data.append(day_data_experiment).append(day_data_control)\n",
        "    fit = stats.ttest_ind(user_data[user_data.group == 'experiment'].value, \n",
        "                          user_data[user_data.group == 'control'].value)\n",
        "\n",
        "    \n",
        "    stat_result = stat_result.append(pd.DataFrame({'t': [fit[0]], 'p': [fit[1]], 'date': current_date}))\n",
        "    \n",
        "    \n",
        "    current_data_stat = user_data.groupby(['group'], as_index=False).agg({'value': 'mean'})\n",
        "    current_data_stat['date'] = current_date\n",
        "    \n",
        "    daily_data = daily_data.append(current_data_stat)\n",
        "    \n",
        "    current_date += 1\n"
      ],
      "execution_count": null,
      "outputs": []
    },
    {
      "cell_type": "code",
      "metadata": {
        "id": "fMPb73g6eohk"
      },
      "source": [
        "ax = sns.lineplot(data=daily_data, x=\"date\", y=\"value\", hue='group')"
      ],
      "execution_count": null,
      "outputs": []
    },
    {
      "cell_type": "code",
      "metadata": {
        "id": "yD617SkhzQPW"
      },
      "source": [
        "ax = sns.lineplot(data = stat_result, x='date', y = 'p' )\n",
        "ax.axhline(0.05, ls ='--' , color = 'green')"
      ],
      "execution_count": null,
      "outputs": []
    },
    {
      "cell_type": "code",
      "metadata": {
        "id": "6iUyO5sEzuPy"
      },
      "source": [
        ""
      ],
      "execution_count": null,
      "outputs": []
    }
  ]
}