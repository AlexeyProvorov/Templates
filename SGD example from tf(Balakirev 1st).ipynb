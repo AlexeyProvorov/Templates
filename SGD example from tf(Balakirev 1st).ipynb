{
  "nbformat": 4,
  "nbformat_minor": 0,
  "metadata": {
    "colab": {
      "provenance": [],
      "authorship_tag": "ABX9TyOw6b56JBMbF1JV3lUV+RvX",
      "include_colab_link": true
    },
    "kernelspec": {
      "name": "python3",
      "display_name": "Python 3"
    },
    "language_info": {
      "name": "python"
    }
  },
  "cells": [
    {
      "cell_type": "markdown",
      "metadata": {
        "id": "view-in-github",
        "colab_type": "text"
      },
      "source": [
        "<a href=\"https://colab.research.google.com/github/AlexeyProvorov/Templates/blob/main/SGD%20example%20from%20tf(Balakirev%201st).ipynb\" target=\"_parent\"><img src=\"https://colab.research.google.com/assets/colab-badge.svg\" alt=\"Open In Colab\"/></a>"
      ]
    },
    {
      "cell_type": "code",
      "source": [
        "# import os\n",
        "# os.environ['TF_CPP_MIN_LOG_LEVEL'] = 2\n",
        "# template SGD from tf(Balakerev 1st video TF)\n",
        "import tensorflow as tf\n",
        "\n",
        "x = tf.Variable(-1.0)\n",
        "y = lambda:x**2-x\n",
        "\n",
        "N = 100\n",
        "opt = tf.optimizers.SGD(learning_rate=0.1)\n",
        "for i in range(N):\n",
        "    opt.minimize(y,[x])\n",
        "print(x.numpy())\n"
      ],
      "metadata": {
        "colab": {
          "base_uri": "https://localhost:8080/"
        },
        "id": "Mltf1WAXwfD6",
        "outputId": "11992507-637b-4857-a970-539900409977"
      },
      "execution_count": null,
      "outputs": [
        {
          "output_type": "stream",
          "name": "stdout",
          "text": [
            "0.49999994\n"
          ]
        }
      ]
    }
  ]
}