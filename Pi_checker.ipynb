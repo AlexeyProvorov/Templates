{
  "nbformat": 4,
  "nbformat_minor": 0,
  "metadata": {
    "colab": {
      "provenance": [],
      "authorship_tag": "ABX9TyP88YY46YA7eTtVKzY4eKPC",
      "include_colab_link": true
    },
    "kernelspec": {
      "name": "python3",
      "display_name": "Python 3"
    },
    "language_info": {
      "name": "python"
    }
  },
  "cells": [
    {
      "cell_type": "markdown",
      "metadata": {
        "id": "view-in-github",
        "colab_type": "text"
      },
      "source": [
        "<a href=\"https://colab.research.google.com/github/AlexeyProvorov/Templates/blob/main/Pi_checker.ipynb\" target=\"_parent\"><img src=\"https://colab.research.google.com/assets/colab-badge.svg\" alt=\"Open In Colab\"/></a>"
      ]
    },
    {
      "cell_type": "code",
      "source": [
        "2/5"
      ],
      "metadata": {
        "colab": {
          "base_uri": "https://localhost:8080/"
        },
        "id": "rR_4hsRecgbX",
        "outputId": "538f500f-25bb-492b-97a3-de245d6b41de"
      },
      "execution_count": null,
      "outputs": [
        {
          "output_type": "execute_result",
          "data": {
            "text/plain": [
              "0.4"
            ]
          },
          "metadata": {},
          "execution_count": 3
        }
      ]
    },
    {
      "cell_type": "code",
      "source": [
        "from mpmath import mp\n",
        "\n",
        "def check_pi_sequence(input_sequence, precision=1000):\n",
        "    \"\"\"\n",
        "    Проверяет последовательность цифр числа π с помощью mpmath.\n",
        "\n",
        "    :param input_sequence: строка с введённой последовательностью цифр (может содержать пробелы, точки и переносы строк)\n",
        "    :param precision: точность числа π в цифрах (по умолчанию 1000)\n",
        "    :return: строка с подсветкой ошибок и совпадений, количество совпадений, общее количество введённых цифр\n",
        "    \"\"\"\n",
        "    # Устанавливаем точность вычислений\n",
        "    mp.dps = precision\n",
        "\n",
        "    # Генерируем число π с нужной точностью\n",
        "    pi_digits = str(mp.pi).replace('.', '')  # Убираем точку для сравнения\n",
        "\n",
        "    # Очистка последовательности от пробелов, переносов строк и точки\n",
        "    input_sequence = input_sequence.replace(\" \", \"\").replace(\"\\n\", \"\").replace(\".\", \"\")\n",
        "\n",
        "    # Определяем длину последовательности\n",
        "    length = len(input_sequence)\n",
        "    pi_digits = pi_digits[:length]  # Обрезаем π до длины ввода\n",
        "\n",
        "    highlighted_result = []\n",
        "    correct_count = 0  # Счётчик совпавших цифр\n",
        "\n",
        "    # Сравниваем цифры\n",
        "    for user_digit, pi_digit in zip(input_sequence, pi_digits):\n",
        "        if user_digit == pi_digit:\n",
        "            highlighted_result.append(user_digit)  # Правильная цифра\n",
        "            correct_count += 1\n",
        "        else:\n",
        "            highlighted_result.append(f\"❌({user_digit}->{pi_digit})\")  # Ошибка с указанием правильной цифры\n",
        "\n",
        "    # Добавляем лишние цифры пользователя, если их больше, чем в π\n",
        "    if len(input_sequence) > len(pi_digits):\n",
        "        for extra_digit in input_sequence[len(pi_digits):]:\n",
        "            highlighted_result.append(f\"❌{extra_digit}(лишняя)\")\n",
        "\n",
        "    return ''.join(highlighted_result), correct_count, len(input_sequence)\n",
        "\n",
        "# Вставьте ваши цифры сюда (с пробелами, точкой или переносами строк)\n",
        "user_input = \"\"\"\n",
        "3.14159265358979323846264338327950288419716939937510582097494459230781640628620899862803482534211706798214808651328230664\n",
        "\"\"\"\n",
        "# Проверка последовательности\n",
        "highlighted_result, correct_count, total_digits = check_pi_sequence(user_input)\n",
        "# Вывод результатов\n",
        "print(\"\\nРезультат проверки:\")\n",
        "print(highlighted_result)\n",
        "print(f\"\\n✅Совпало {correct_count} цифр из {total_digits}.\")\n"
      ],
      "metadata": {
        "id": "fi-VCRfov_om",
        "colab": {
          "base_uri": "https://localhost:8080/"
        },
        "outputId": "ff4b8ee0-4f3f-442a-d8a7-37a98d62cd0f"
      },
      "execution_count": 3,
      "outputs": [
        {
          "output_type": "stream",
          "name": "stdout",
          "text": [
            "\n",
            "Результат проверки:\n",
            "314159265358979323846264338327950288419716939937510582097494459230781640628620899862803482534211706798214808651328230664\n",
            "\n",
            "✅Совпало 120 цифр из 120.\n"
          ]
        }
      ]
    },
    {
      "cell_type": "code",
      "source": [],
      "metadata": {
        "id": "2dw6rPe3Dh6z"
      },
      "execution_count": null,
      "outputs": []
    },
    {
      "cell_type": "code",
      "source": [],
      "metadata": {
        "id": "8gaOtXy0EJlL",
        "colab": {
          "base_uri": "https://localhost:8080/"
        },
        "outputId": "325099d5-f8a0-4da3-d132-968d5fe729fb"
      },
      "execution_count": 2,
      "outputs": [
        {
          "output_type": "execute_result",
          "data": {
            "text/plain": [
              "3.141592653589793"
            ]
          },
          "metadata": {},
          "execution_count": 2
        }
      ]
    },
    {
      "cell_type": "code",
      "source": [],
      "metadata": {
        "id": "scZ9rsO7DBQ_"
      },
      "execution_count": null,
      "outputs": []
    }
  ]
}