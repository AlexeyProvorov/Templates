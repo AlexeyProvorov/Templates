{
  "nbformat": 4,
  "nbformat_minor": 0,
  "metadata": {
    "colab": {
      "provenance": [],
      "authorship_tag": "ABX9TyNIq47vYZh3yTFv2BiqMXUO",
      "include_colab_link": true
    },
    "kernelspec": {
      "name": "python3",
      "display_name": "Python 3"
    },
    "language_info": {
      "name": "python"
    }
  },
  "cells": [
    {
      "cell_type": "markdown",
      "metadata": {
        "id": "view-in-github",
        "colab_type": "text"
      },
      "source": [
        "<a href=\"https://colab.research.google.com/github/AlexeyProvorov/Templates/blob/main/tf_Keras(func_aproach)_NN_and_VAE_.ipynb\" target=\"_parent\"><img src=\"https://colab.research.google.com/assets/colab-badge.svg\" alt=\"Open In Colab\"/></a>"
      ]
    },
    {
      "cell_type": "markdown",
      "source": [
        "Пример использования tf функционального подхода. С передечей атрибутов экземплярам через `__call__`\n",
        "\n",
        "\n",
        "1) Полносвязная нейронная сеть\n",
        "2) Автоэнкодер"
      ],
      "metadata": {
        "id": "fDYjphJs_aM0"
      }
    },
    {
      "cell_type": "markdown",
      "source": [
        "# Полносвязная нейронная сеть"
      ],
      "metadata": {
        "id": "Ci9l3gVAwSPj"
      }
    },
    {
      "cell_type": "code",
      "source": [
        "import os\n",
        "os.environ['TF_CPP_MIN_LOG_LEVEL'] = '2'\n",
        "\n",
        "import tensorflow as tf\n",
        "from tensorflow.keras.datasets import cifar10\n",
        "from tensorflow.keras import layers\n",
        "from tensorflow import keras"
      ],
      "metadata": {
        "id": "Mltf1WAXwfD6"
      },
      "execution_count": null,
      "outputs": []
    },
    {
      "cell_type": "code",
      "source": [
        "input = keras.Input(shape=(32,32,3))\n",
        "\n",
        "x = layers.Conv2D(32, 3, activation = 'relu')(input)\n",
        "x = layers.MaxPooling2D(2, padding = 'same')(x)\n",
        "\n",
        "x = layers.Conv2D(64, 3, activation = 'relu')(x)\n",
        "x = layers.MaxPooling2D(2, padding = 'same')(x)\n",
        "\n",
        "x = layers.Flatten()(x)\n",
        "\n",
        "x = layers.Dense(256, activation = 'relu')(x)\n",
        "x = layers.Dropout(0.5)(x)\n",
        "\n",
        "output = layers.Dense(10, activation='softmax')(x)\n",
        "\n",
        "model = keras.Model(inputs = input, outputs = output)"
      ],
      "metadata": {
        "id": "8CV4oMfZzAoP"
      },
      "execution_count": null,
      "outputs": []
    },
    {
      "cell_type": "code",
      "source": [
        "model.summary()"
      ],
      "metadata": {
        "colab": {
          "base_uri": "https://localhost:8080/"
        },
        "id": "P0Aq7wbtpn3s",
        "outputId": "3bd377a2-396b-4e98-a86f-ea6920cb6858"
      },
      "execution_count": null,
      "outputs": [
        {
          "output_type": "stream",
          "name": "stdout",
          "text": [
            "Model: \"model_3\"\n",
            "_________________________________________________________________\n",
            " Layer (type)                Output Shape              Param #   \n",
            "=================================================================\n",
            " input_7 (InputLayer)        [(None, 32, 32, 3)]       0         \n",
            "                                                                 \n",
            " conv2d_9 (Conv2D)           (None, 30, 30, 32)        896       \n",
            "                                                                 \n",
            " max_pooling2d_8 (MaxPoolin  (None, 15, 15, 32)        0         \n",
            " g2D)                                                            \n",
            "                                                                 \n",
            " conv2d_10 (Conv2D)          (None, 13, 13, 64)        18496     \n",
            "                                                                 \n",
            " max_pooling2d_9 (MaxPoolin  (None, 7, 7, 64)          0         \n",
            " g2D)                                                            \n",
            "                                                                 \n",
            " flatten_3 (Flatten)         (None, 3136)              0         \n",
            "                                                                 \n",
            " dense_6 (Dense)             (None, 256)               803072    \n",
            "                                                                 \n",
            " dropout_3 (Dropout)         (None, 256)               0         \n",
            "                                                                 \n",
            " dense_7 (Dense)             (None, 10)                2570      \n",
            "                                                                 \n",
            "=================================================================\n",
            "Total params: 825034 (3.15 MB)\n",
            "Trainable params: 825034 (3.15 MB)\n",
            "Non-trainable params: 0 (0.00 Byte)\n",
            "_________________________________________________________________\n"
          ]
        }
      ]
    },
    {
      "cell_type": "code",
      "source": [
        "(x_train, y_train), (x_test, y_test) = cifar10.load_data()\n",
        "\n",
        "x_train = x_train/255\n",
        "x_test = x_test/255\n",
        "\n",
        "y_train = keras.utils.to_categorical(y_train, 10)\n",
        "y_test = keras.utils.to_categorical(y_test, 10)\n",
        "\n",
        "model.compile(optimizer='adam',\n",
        "              loss = 'categorical_crossentropy',\n",
        "              metrics = ['accuracy'])\n"
      ],
      "metadata": {
        "id": "BIKKlGFoqaSL"
      },
      "execution_count": null,
      "outputs": []
    },
    {
      "cell_type": "code",
      "source": [
        "model.fit(x_train, y_train, batch_size=64, epochs=20, validation_split=0.2)"
      ],
      "metadata": {
        "colab": {
          "base_uri": "https://localhost:8080/"
        },
        "id": "Ed6yu8YLw_Ja",
        "outputId": "5600c90c-7e33-4279-c186-f8bfa1435d78"
      },
      "execution_count": null,
      "outputs": [
        {
          "output_type": "stream",
          "name": "stdout",
          "text": [
            "Epoch 1/20\n",
            "625/625 [==============================] - 66s 104ms/step - loss: 1.5825 - accuracy: 0.4245 - val_loss: 1.2858 - val_accuracy: 0.5488\n",
            "Epoch 2/20\n",
            "625/625 [==============================] - 59s 94ms/step - loss: 1.2516 - accuracy: 0.5546 - val_loss: 1.1075 - val_accuracy: 0.6099\n",
            "Epoch 3/20\n",
            "625/625 [==============================] - 59s 94ms/step - loss: 1.1184 - accuracy: 0.6035 - val_loss: 1.0059 - val_accuracy: 0.6482\n",
            "Epoch 4/20\n",
            "625/625 [==============================] - 58s 93ms/step - loss: 1.0202 - accuracy: 0.6411 - val_loss: 0.9508 - val_accuracy: 0.6667\n",
            "Epoch 5/20\n",
            "625/625 [==============================] - 57s 91ms/step - loss: 0.9383 - accuracy: 0.6718 - val_loss: 0.9071 - val_accuracy: 0.6823\n",
            "Epoch 6/20\n",
            "625/625 [==============================] - 59s 94ms/step - loss: 0.8810 - accuracy: 0.6889 - val_loss: 0.8983 - val_accuracy: 0.6885\n",
            "Epoch 7/20\n",
            "625/625 [==============================] - 59s 95ms/step - loss: 0.8234 - accuracy: 0.7095 - val_loss: 0.8639 - val_accuracy: 0.7013\n",
            "Epoch 8/20\n",
            "625/625 [==============================] - 58s 93ms/step - loss: 0.7803 - accuracy: 0.7250 - val_loss: 0.8647 - val_accuracy: 0.7015\n",
            "Epoch 9/20\n",
            "625/625 [==============================] - 57s 92ms/step - loss: 0.7278 - accuracy: 0.7422 - val_loss: 0.8493 - val_accuracy: 0.7127\n",
            "Epoch 10/20\n",
            "625/625 [==============================] - 61s 97ms/step - loss: 0.6874 - accuracy: 0.7568 - val_loss: 0.8490 - val_accuracy: 0.7114\n",
            "Epoch 11/20\n",
            "625/625 [==============================] - 57s 91ms/step - loss: 0.6548 - accuracy: 0.7685 - val_loss: 0.8699 - val_accuracy: 0.7093\n",
            "Epoch 12/20\n",
            "625/625 [==============================] - 56s 89ms/step - loss: 0.6147 - accuracy: 0.7798 - val_loss: 0.8637 - val_accuracy: 0.7158\n",
            "Epoch 13/20\n",
            "625/625 [==============================] - 57s 92ms/step - loss: 0.5803 - accuracy: 0.7947 - val_loss: 0.8508 - val_accuracy: 0.7217\n",
            "Epoch 14/20\n",
            "625/625 [==============================] - 58s 93ms/step - loss: 0.5470 - accuracy: 0.8044 - val_loss: 0.8540 - val_accuracy: 0.7222\n",
            "Epoch 15/20\n",
            "625/625 [==============================] - 57s 92ms/step - loss: 0.5104 - accuracy: 0.8165 - val_loss: 0.8814 - val_accuracy: 0.7229\n",
            "Epoch 16/20\n",
            "625/625 [==============================] - 56s 89ms/step - loss: 0.4940 - accuracy: 0.8231 - val_loss: 0.8771 - val_accuracy: 0.7230\n",
            "Epoch 17/20\n",
            "625/625 [==============================] - 58s 92ms/step - loss: 0.4562 - accuracy: 0.8333 - val_loss: 0.9091 - val_accuracy: 0.7271\n",
            "Epoch 18/20\n",
            "625/625 [==============================] - 57s 91ms/step - loss: 0.4310 - accuracy: 0.8436 - val_loss: 0.9283 - val_accuracy: 0.7258\n",
            "Epoch 19/20\n",
            "625/625 [==============================] - 56s 90ms/step - loss: 0.4084 - accuracy: 0.8503 - val_loss: 0.9339 - val_accuracy: 0.7256\n",
            "Epoch 20/20\n",
            "625/625 [==============================] - 56s 90ms/step - loss: 0.3915 - accuracy: 0.8566 - val_loss: 0.9805 - val_accuracy: 0.7205\n"
          ]
        },
        {
          "output_type": "execute_result",
          "data": {
            "text/plain": [
              "<keras.src.callbacks.History at 0x7ed6662cf1f0>"
            ]
          },
          "metadata": {},
          "execution_count": 18
        }
      ]
    },
    {
      "cell_type": "code",
      "source": [
        "print(model.evaluate(x_test, y_test))"
      ],
      "metadata": {
        "colab": {
          "base_uri": "https://localhost:8080/"
        },
        "id": "a4evTXLqxS_f",
        "outputId": "f26a5ebb-56cf-453b-8daf-c7333a402715"
      },
      "execution_count": null,
      "outputs": [
        {
          "output_type": "stream",
          "name": "stdout",
          "text": [
            "313/313 [==============================] - 4s 14ms/step - loss: 0.9808 - accuracy: 0.7213\n",
            "[0.9807549118995667, 0.7213000059127808]\n"
          ]
        }
      ]
    },
    {
      "cell_type": "markdown",
      "source": [
        "# Автоэнкодер"
      ],
      "metadata": {
        "id": "ZJsij7CRwEf4"
      }
    },
    {
      "cell_type": "code",
      "source": [
        "import os\n",
        "os.environ['TF_CPP_MIN_LOG_LEVEL'] = '2'\n",
        "\n",
        "import tensorflow as tf\n",
        "from tensorflow.keras.layers import Dense, Input, Conv2D, MaxPooling2D, Flatten, Conv2DTranspose\n",
        "from tensorflow import keras\n",
        "from tensorflow.keras.datasets import cifar10, mnist\n",
        "\n",
        "import matplotlib.pyplot as plt\n",
        "\n",
        "enc_input = Input(shape=(28, 28, 1))\n",
        "x = Conv2D(32, 3, activation='relu')(enc_input)\n",
        "x = MaxPooling2D(2, padding='same')(x)\n",
        "x = Conv2D(64, 3, activation='relu')(x)\n",
        "x = MaxPooling2D(2, padding='same')(x)\n",
        "x = Flatten()(x)\n",
        "enc_output = Dense(8, activation='linear')(x)\n",
        "\n",
        "encoder = keras.Model(enc_input, enc_output, name=\"encoder\")\n",
        "\n",
        "dec_input = keras.Input(shape=(8,), name=\"encoded_img\")\n",
        "x = Dense(7 * 7 * 8, activation='relu')(dec_input)\n",
        "x = keras.layers.Reshape((7, 7, 8))(x)\n",
        "x = Conv2DTranspose(64, 5, strides=(2, 2), activation=\"relu\", padding='same')(x)\n",
        "x = keras.layers.BatchNormalization()(x)\n",
        "x = Conv2DTranspose(32, 5, strides=(2, 2), activation=\"linear\", padding='same')(x)\n",
        "x = keras.layers.BatchNormalization()(x)\n",
        "dec_output = Conv2DTranspose(1, 3, activation=\"sigmoid\", padding='same')(x)\n",
        "\n",
        "decoder = keras.Model(dec_input, dec_output, name=\"decoder\")\n",
        "\n",
        "autoencoder_input = Input(shape=(28, 28, 1), name=\"img\")\n",
        "x = encoder(autoencoder_input)\n",
        "autoencoder_output = decoder(x)\n",
        "\n",
        "autoencoder = keras.Model(autoencoder_input, autoencoder_output, name=\"autoencoder\")\n",
        "#autoencoder.summary()\n",
        "\n",
        "\n",
        "(x_train, y_train), (x_test, y_test) = mnist.load_data()\n",
        "\n",
        "x_train = x_train.astype(\"float32\") / 255.0\n",
        "x_test = x_test.astype(\"float32\") / 255.0\n",
        "y_train = keras.utils.to_categorical(y_train, 10)\n",
        "y_test = keras.utils.to_categorical(y_test, 10)\n",
        "\n",
        "autoencoder.compile(optimizer='adam', loss='mean_squared_error')\n",
        "autoencoder.fit(x_train, x_train, batch_size=32, epochs=1)\n",
        "\n",
        "h = encoder.predict(tf.expand_dims(x_test[0], axis=0))\n",
        "img = decoder.predict(h)\n",
        "\n",
        "plt.subplot(121)\n",
        "plt.imshow(x_test[0], cmap='gray')\n",
        "plt.subplot(122)\n",
        "plt.imshow(img.squeeze(), cmap='gray')\n",
        "plt.show()"
      ],
      "metadata": {
        "colab": {
          "base_uri": "https://localhost:8080/",
          "height": 379
        },
        "id": "wJKCwXxgxo96",
        "outputId": "63958f73-0983-4028-dbe0-9d0f94363ad9"
      },
      "execution_count": null,
      "outputs": [
        {
          "output_type": "stream",
          "name": "stdout",
          "text": [
            "Downloading data from https://storage.googleapis.com/tensorflow/tf-keras-datasets/mnist.npz\n",
            "11490434/11490434 [==============================] - 0s 0us/step\n",
            "1875/1875 [==============================] - 232s 121ms/step - loss: 0.0303\n",
            "1/1 [==============================] - 0s 141ms/step\n",
            "1/1 [==============================] - 0s 137ms/step\n"
          ]
        },
        {
          "output_type": "display_data",
          "data": {
            "text/plain": [
              "<Figure size 640x480 with 2 Axes>"
            ],
            "image/png": "[encoded data removed]"
          },
          "metadata": {}
        }
      ]
    },
    {
      "cell_type": "markdown",
      "source": [
        "исходник взят от(11 видео по TF у Балакирева)"
      ],
      "metadata": {
        "id": "OEz7_3rMyDgX"
      }
    },
    {
      "cell_type": "code",
      "source": [],
      "metadata": {
        "id": "gpm-uE-IyJdr"
      },
      "execution_count": null,
      "outputs": []
    }
  ]
}