{
  "nbformat": 4,
  "nbformat_minor": 0,
  "metadata": {
    "colab": {
      "name": "MAE and MAPE.ipynb",
      "provenance": [],
      "authorship_tag": "ABX9TyPtiosvHrfZQMgngloCLYzt",
      "include_colab_link": true
    },
    "kernelspec": {
      "name": "python3",
      "display_name": "Python 3"
    },
    "language_info": {
      "name": "python"
    }
  },
  "cells": [
    {
      "cell_type": "markdown",
      "metadata": {
        "id": "view-in-github",
        "colab_type": "text"
      },
      "source": [
        "<a href=\"https://colab.research.google.com/github/LeoProvorov/Templates/blob/main/MAE_and_MAPE.ipynb\" target=\"_parent\"><img src=\"https://colab.research.google.com/assets/colab-badge.svg\" alt=\"Open In Colab\"/></a>"
      ]
    },
    {
      "cell_type": "code",
      "metadata": {
        "colab": {
          "base_uri": "https://localhost:8080/"
        },
        "id": "UIN3qo-K0u_I",
        "outputId": "84f09ac3-dd9e-4170-f000-69b2ea35f8d5"
      },
      "source": [
        "import numpy as np\n",
        "from sklearn.metrics import mean_absolute_error as mae\n",
        "\n",
        "y = np.array([1,2,3,4,5,-1,-2,-3,-4,-5])\n",
        "y_pred = np.array([0,2,2,5,3,-1,-1,-4,-6,-5])\n",
        "\n",
        "def mape(y, y_pred): \n",
        "    return np.mean(np.abs((y - y_pred) / y)) * 100\n",
        "\n",
        "print(mae(y, y_pred))\n",
        "print(mape(y, y_pred))"
      ],
      "execution_count": 1,
      "outputs": [
        {
          "output_type": "stream",
          "name": "stdout",
          "text": [
            "0.9\n",
            "33.166666666666664\n"
          ]
        }
      ]
    },
    {
      "cell_type": "code",
      "metadata": {
        "colab": {
          "base_uri": "https://localhost:8080/"
        },
        "id": "a64zq0W-08Kq",
        "outputId": "2d457922-91a2-42f9-ff2e-c9c680cb8b62"
      },
      "source": [
        "# Или так, используя панды\n",
        "import pandas as pd\n",
        "\n",
        "real_y = pd.Series([1,2,3,4,5,-1,-2,-3,-4,-5])\n",
        "pred_y = pd.Series([0, 2, 2, 5, 3, -1, -1, -4, -6, -5])\n",
        "\n",
        "MAE = (real_y - pred_y).abs().mean()\n",
        "MAPE = ((real_y - pred_y) / real_y).abs().mean() * 100\n",
        "\n",
        "print(str(MAE))\n",
        "print(str(round(MAPE, 2)))"
      ],
      "execution_count": 5,
      "outputs": [
        {
          "output_type": "stream",
          "name": "stdout",
          "text": [
            "0.9\n",
            "33.17\n"
          ]
        }
      ]
    }
  ]
}